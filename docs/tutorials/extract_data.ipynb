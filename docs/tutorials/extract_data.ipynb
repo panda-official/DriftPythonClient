{
 "cells": [
  {
   "cell_type": "markdown",
   "source": [
    "# How to extract Data from a Drift device\n",
    "\n",
    "As it was already [explained](../panda_drift.md), _PANDA|Drift_ keep a history of input data that might be images from CV cameras, sensor data or metrics.\n",
    "In this tutorial we learn:\n",
    "\n",
    "1. How to connect a Drift device and explore topics\n",
    "2. Download and parse a Drift Package\n",
    "3. Extract an image from a CV camera\n",
    "4. Extract time series from an acceleration sensor\n",
    "5. Get metrics"
   ],
   "metadata": {
    "collapsed": false,
    "pycharm": {
     "name": "#%% md\n"
    }
   }
  },
  {
   "cell_type": "markdown",
   "source": [
    "## Connect and explore topics\n",
    "\n",
    "To connect to a device, you need to know its hostname or IP address and password:"
   ],
   "metadata": {
    "collapsed": false,
    "pycharm": {
     "name": "#%% md\n"
    }
   }
  },
  {
   "cell_type": "code",
   "execution_count": 6,
   "outputs": [
    {
     "name": "stdout",
     "output_type": "stream",
     "text": [
      "['acc-0', 'acc-1', 'acc-2', 'acc-3', 'acc-4', 'acc-5', 'acc-6', 'acc-7', 'camera', 'energy-distr-0', 'energy-distr-1', 'energy-distr-2', 'energy-distr-3', 'energy-distr-4', 'energy-distr-5', 'energy-distr-6', 'energy-distr-7']\n"
     ]
    }
   ],
   "source": [
    "import os\n",
    "from drift_client import DriftClient\n",
    "\n",
    "drift_client = DriftClient(\"drift-test-rig.local\", os.getenv(\"DRIFT_PASSWORD\"))\n",
    "\n",
    "print(drift_client.get_topics())"
   ],
   "metadata": {
    "collapsed": false,
    "pycharm": {
     "name": "#%%\n"
    }
   }
  },
  {
   "cell_type": "markdown",
   "source": [
    "You can see that the Drift device has few topics. Unfortunately, the device doesn't provide information about the type, and you should know it in advance. Here we have 8 acceleration signals (time series), 8  energy distributions (metrics of accelerations) and one camera (images)."
   ],
   "metadata": {
    "collapsed": false,
    "pycharm": {
     "name": "#%% md\n"
    }
   }
  },
  {
   "cell_type": "markdown",
   "source": [
    "## Download and parse a Drift package\n",
    "When you know a topic name you can load some bulk of packages for a time interval. Let's take packages of camera data for the last 5 seconds:"
   ],
   "metadata": {
    "collapsed": false,
    "pycharm": {
     "name": "#%% md\n"
    }
   }
  },
  {
   "cell_type": "code",
   "execution_count": null,
   "outputs": [],
   "source": [
    "from datetime import datetime, timedelta\n",
    "\n",
    "package_names = drift_client.get_package_names(\n",
    "    \"camera\", datetime.utcnow() - timedelta(seconds=5), datetime.utcnow()\n",
    ")\n",
    "print(f\"Found {len(package_names)} packages\")\n",
    "print(package_names)"
   ],
   "metadata": {
    "collapsed": false,
    "pycharm": {
     "name": "#%%\n"
    }
   }
  },
  {
   "cell_type": "markdown",
   "source": [
    "We should take ~5 packages because we capture an image each second. Let's download one from our object storage and parse it:"
   ],
   "metadata": {
    "collapsed": false,
    "pycharm": {
     "name": "#%% md\n"
    }
   }
  },
  {
   "cell_type": "code",
   "execution_count": null,
   "outputs": [],
   "source": [
    "pkg = drift_client.get_item(package_names[0])\n",
    "print(f\"Download package id={pkg.package_id} status={pkg.status_code}\")"
   ],
   "metadata": {
    "collapsed": false,
    "pycharm": {
     "name": "#%%\n"
    }
   }
  },
  {
   "cell_type": "markdown",
   "source": [
    "All packages have at least an `ID` and `status code`. The package ID is unique for a topic, it is a timestamp when an event in the system happened. If you know that topic 'A' has metrics for data from topic 'B' they will have the same IDs, so that you can align data from different topics that belong to the same event. A package has the status code 0 if it has valid data."
   ],
   "metadata": {
    "collapsed": false,
    "pycharm": {
     "name": "#%% md\n"
    }
   }
  },
  {
   "cell_type": "markdown",
   "source": [
    "Because we download a Drift package it always contains [WaveletBuffer](https://github.com/panda-official/WaveletBuffer). Let's take it and play a bit with:"
   ],
   "metadata": {
    "collapsed": false,
    "pycharm": {
     "name": "#%% md\n"
    }
   }
  },
  {
   "cell_type": "code",
   "execution_count": null,
   "outputs": [],
   "source": [
    "buffer = pkg.as_buffer()\n",
    "print(buffer)"
   ],
   "metadata": {
    "collapsed": false,
    "pycharm": {
     "name": "#%%\n"
    }
   }
  },
  {
   "cell_type": "markdown",
   "source": [
    "## Extract an image from a CV camera\n",
    "From the previous step, we see that the buffer has some meta information about itself, and we can see that it has fullHD 3-channeled picture. We can extract it as a numpy array:"
   ],
   "metadata": {
    "collapsed": false,
    "pycharm": {
     "name": "#%% md\n"
    }
   }
  },
  {
   "cell_type": "code",
   "execution_count": null,
   "outputs": [],
   "source": [
    "from wavelet_buffer.img import RgbJpeg, GrayJpeg\n",
    "from IPython.display import Image\n",
    "\n",
    "pic = buffer.compose(\n",
    "    scale_factor=2\n",
    ")  # we may use scale factor and restore smaller version of image\n",
    "\n",
    "print(f\"Scaled image {pic.shape}\")\n",
    "\n",
    "jpeg = RgbJpeg().encode(pic)\n",
    "Image(data=jpeg)"
   ],
   "metadata": {
    "collapsed": false,
    "pycharm": {
     "name": "#%%\n"
    }
   }
  },
  {
   "cell_type": "markdown",
   "source": [
    "## Extract time series from an acceleration sensor\n",
    "Wavelet decomposition can be applied"
   ],
   "metadata": {
    "collapsed": false,
    "pycharm": {
     "name": "#%% md\n"
    }
   }
  },
  {
   "cell_type": "code",
   "execution_count": 10,
   "outputs": [],
   "source": [],
   "metadata": {
    "collapsed": false,
    "pycharm": {
     "name": "#%%\n"
    }
   }
  }
 ],
 "metadata": {
  "kernelspec": {
   "display_name": "Python 3",
   "language": "python",
   "name": "python3"
  },
  "language_info": {
   "codemirror_mode": {
    "name": "ipython",
    "version": 2
   },
   "file_extension": ".py",
   "mimetype": "text/x-python",
   "name": "python",
   "nbconvert_exporter": "python",
   "pygments_lexer": "ipython2",
   "version": "2.7.6"
  }
 },
 "nbformat": 4,
 "nbformat_minor": 0
}
