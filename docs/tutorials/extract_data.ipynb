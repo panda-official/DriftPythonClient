{
 "cells": [
  {
   "cell_type": "markdown",
   "source": [
    "# How to extract Historical Data from a Drift device\n",
    "\n",
    "_PANDA|Drift_ keeps a history of input data that might be images from CV cameras, sensor data or metrics.\n",
    "In this tutorial you will learn:\n",
    "\n",
    "1. How to connect a Drift device and explore topics\n",
    "2. How to download and parse a Drift Package\n",
    "3. How to extract an image from a CV camera\n",
    "4. How to extract time series data from an acceleration sensor\n",
    "5. Hot to get metrics"
   ],
   "metadata": {
    "collapsed": false
   }
  },
  {
   "cell_type": "markdown",
   "source": [
    "## Connect and explore topics\n",
    "\n",
    "To connect to a device, you need to know its hostname or IP address and password:"
   ],
   "metadata": {
    "collapsed": false
   }
  },
  {
   "cell_type": "code",
   "execution_count": 2,
   "outputs": [
    {
     "name": "stderr",
     "output_type": "stream",
     "text": [
      "/Users/atimin/Projects/panda-official/DriftPythonClient/venv/lib/python3.9/site-packages/drift_client/drift_client.py:83: RuntimeWarning: coroutine 'Client.info' was never awaited\n",
      "  self._blob_storage = MinIOClient(\n",
      "RuntimeWarning: Enable tracemalloc to get the object allocation traceback\n"
     ]
    },
    {
     "name": "stdout",
     "output_type": "stream",
     "text": [
      "['acc-10', 'acc-11', 'acc-12', 'acc-5', 'acc-6', 'acc-7', 'acc-8', 'acc-9', 'energy-acc-10', 'energy-acc-11', 'energy-acc-12', 'energy-acc-5', 'energy-acc-6', 'energy-acc-7', 'energy-acc-8', 'energy-acc-9', 'opcua']\n"
     ]
    }
   ],
   "source": [
    "import os\n",
    "import asyncio\n",
    "from drift_client import DriftClient\n",
    "\n",
    "loop = asyncio.new_event_loop() # normally we don't need a loop (only for Jupiter and async code)\n",
    "drift_client = DriftClient(\"drift-dev2.local\", os.getenv(\"DRIFT_PASSWORD\"), loop=loop)\n",
    "\n",
    "print(drift_client.get_topics())"
   ],
   "metadata": {
    "collapsed": false
   }
  },
  {
   "cell_type": "markdown",
   "source": [
    "You can see that the Drift device has few topics. Unfortunately, the device doesn't provide information about the type, and you should know it in advance. Here we have 8 acceleration signals (time series), 8  energy distributions (metrics of accelerations) and one camera (images)."
   ],
   "metadata": {
    "collapsed": false
   }
  },
  {
   "cell_type": "markdown",
   "source": [
    "## Download and parse a Drift package\n",
    "When you know a topic name you can load some batch of packages for a time interval. Let's take packages of camera data for the last 5 seconds:"
   ],
   "metadata": {
    "collapsed": false
   }
  },
  {
   "cell_type": "code",
   "execution_count": 3,
   "outputs": [
    {
     "name": "stdout",
     "output_type": "stream",
     "text": [
      "Found 5 packages\n",
      "['acc-5/1676296193326.dp', 'acc-5/1676296194326.dp', 'acc-5/1676296195327.dp', 'acc-5/1676296196327.dp', 'acc-5/1676296197327.dp']\n"
     ]
    }
   ],
   "source": [
    "from datetime import datetime, timedelta\n",
    "\n",
    "package_names = drift_client.get_package_names(\n",
    "    \"acc-5\", datetime.utcnow() - timedelta(seconds=5), datetime.utcnow()\n",
    ")\n",
    "print(f\"Found {len(package_names)} packages\")\n",
    "print(package_names)"
   ],
   "metadata": {
    "collapsed": false
   }
  },
  {
   "cell_type": "markdown",
   "source": [
    "We should take ~5 packages because we capture an image each second. Let's download one from our object storage and parse it:"
   ],
   "metadata": {
    "collapsed": false
   }
  },
  {
   "cell_type": "code",
   "execution_count": 4,
   "outputs": [
    {
     "name": "stderr",
     "output_type": "stream",
     "text": [
      "\n",
      "KeyboardInterrupt\n",
      "\n"
     ]
    }
   ],
   "source": [
    "pkg = drift_client.get_item(package_names[0])\n",
    "print(f\"Download package id={pkg.package_id} status={pkg.status_code}\")"
   ],
   "metadata": {
    "collapsed": false
   }
  },
  {
   "cell_type": "markdown",
   "source": [
    "All packages have at least an `ID` and `status code`. The package ID is unique for a topic, it is a timestamp when an event in the system happened. If you know that topic 'A' has metrics for data from topic 'B' they will have the same IDs, so that you can align data from different topics that belong to the same event. A package has the status code 0 if it has valid data."
   ],
   "metadata": {
    "collapsed": false
   }
  },
  {
   "cell_type": "markdown",
   "source": [
    "## Extract an image from a CV camera\n",
    "Because we download a Drift package it always contains [WaveletBuffer](https://github.com/panda-official/WaveletBuffer). Let's take it and play a bit with:"
   ],
   "metadata": {
    "collapsed": false
   }
  },
  {
   "cell_type": "code",
   "execution_count": null,
   "outputs": [],
   "source": [
    "buffer = pkg.as_buffer()\n",
    "print(buffer)"
   ],
   "metadata": {
    "collapsed": false
   }
  },
  {
   "cell_type": "markdown",
   "source": [
    "\n",
    "\n",
    "From the previous step, we see that the buffer has some meta information about itself, and we can see that it contains a fullHD 3-channeled picture. We can extract it as a numpy array and encode into a JPEG image:"
   ],
   "metadata": {
    "collapsed": false
   }
  },
  {
   "cell_type": "code",
   "execution_count": null,
   "outputs": [],
   "source": [
    "from wavelet_buffer.img import RgbJpeg, GrayJpeg\n",
    "from IPython.display import Image\n",
    "\n",
    "pic = buffer.compose(\n",
    "    scale_factor=1\n",
    ")  # we may use scale factor and restore 2^scaler_factor times smaller version of image\n",
    "\n",
    "print(f\"Scaled image {pic.shape}\")\n",
    "jpeg = RgbJpeg().encode(pic)\n",
    "Image(data=jpeg)"
   ],
   "metadata": {
    "collapsed": false
   }
  },
  {
   "cell_type": "markdown",
   "source": [
    "## Extract time series from an acceleration sensor\n",
    "We can also use the wavelet decomposition for time series data when we have a very high sample rate (vibration or sound e.g). In our demo system we have 8 acceleration sensors `acc-{0..7}`. Let's take one of them and see what is inside:"
   ],
   "metadata": {
    "collapsed": false
   }
  },
  {
   "cell_type": "code",
   "execution_count": null,
   "outputs": [],
   "source": [
    "package_names = drift_client.get_package_names(\n",
    "    \"acc-1\", datetime.utcnow() - timedelta(seconds=5), datetime.utcnow()\n",
    ")\n",
    "pkg = drift_client.get_item(package_names[0])\n",
    "buffer = pkg.as_buffer()\n",
    "print(buffer)"
   ],
   "metadata": {
    "collapsed": false
   }
  },
  {
   "cell_type": "markdown",
   "source": [
    "The buffer contains a timeseries with ~48k points, we can show its scaled version:"
   ],
   "metadata": {
    "collapsed": false
   }
  },
  {
   "cell_type": "code",
   "execution_count": null,
   "outputs": [],
   "source": [
    "signal = buffer.compose(scale_factor=7)\n",
    "print(f\"Scaled size {signal.shape}\")\n",
    "\n",
    "import matplotlib.pyplot as plt\n",
    "\n",
    "plt.plot(signal)\n",
    "plt.show()"
   ],
   "metadata": {
    "collapsed": false
   }
  },
  {
   "cell_type": "markdown",
   "source": [
    "## Get metrics\n",
    "The _PANDA|Drift_ platform keep a history of metrics separated from input data. So, a user should use a different API to get them.\n",
    "\n",
    "In our example, we have energy distributions (like frequency spectrums) of the acceleration senors as metrics. We can use the `get_metrics` method to download them:"
   ],
   "metadata": {
    "collapsed": false
   }
  },
  {
   "cell_type": "code",
   "execution_count": null,
   "outputs": [],
   "source": [
    "metrics = drift_client.get_metrics(\n",
    "    \"energy-distr-1\",\n",
    "    start=datetime.utcnow() - timedelta(seconds=3),\n",
    "    stop=datetime.utcnow(),\n",
    ")\n",
    "\n",
    "print(metrics)"
   ],
   "metadata": {
    "collapsed": false
   }
  },
  {
   "cell_type": "markdown",
   "source": [
    "Here is a short example of how to plot a bar diagram of an energy distribution."
   ],
   "metadata": {
    "collapsed": false
   }
  },
  {
   "cell_type": "code",
   "execution_count": null,
   "outputs": [],
   "source": [
    "energies = drift_client.get_metrics(\n",
    "    \"energy-distr-1\",\n",
    "    start=datetime.utcnow() - timedelta(seconds=5),\n",
    "    stop=datetime.utcnow(),\n",
    "    names=[\"d1\", \"d2\", \"d3\", \"d4\", \"d5\", \"d6\"],\n",
    ")\n",
    "\n",
    "as_dict = dict(energies[0])\n",
    "as_dict.pop(\"time\")\n",
    "plt.bar(as_dict.keys(), as_dict.values())\n",
    "plt.show()"
   ],
   "metadata": {
    "collapsed": false
   }
  },
  {
   "cell_type": "code",
   "execution_count": null,
   "outputs": [],
   "source": [],
   "metadata": {
    "collapsed": false
   }
  }
 ],
 "metadata": {
  "kernelspec": {
   "display_name": "Python 3",
   "language": "python",
   "name": "python3"
  },
  "language_info": {
   "codemirror_mode": {
    "name": "ipython",
    "version": 2
   },
   "file_extension": ".py",
   "mimetype": "text/x-python",
   "name": "python",
   "nbconvert_exporter": "python",
   "pygments_lexer": "ipython2",
   "version": "2.7.6"
  }
 },
 "nbformat": 4,
 "nbformat_minor": 0
}
