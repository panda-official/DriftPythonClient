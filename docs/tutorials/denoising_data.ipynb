{
 "cells": [
  {
   "cell_type": "markdown",
   "source": [
    "# Denoising timeseries data by using WaveletBuffer\n",
    "\n",
    "A popular approach for conditional monitoring of mechanical machines is to embed vibration sensors into a machine and start \"listening\" to it. The data from\n",
    "the sensors must be stored somewhere. So, the more efficient we compress them, the longer history we can keep. When we deal with sensors we always have noise from them, and when a machine is stopped we have only noise which wastes our storage space. [WaveletBuffer][2] was developed to solve this problem by using the wavelet transformation and efficient compression of denoised data. However, a user must know many settings to use it efficiently. In this tutorial you will learn how to find denoising parameters to get rid of white noise in your data."
   ],
   "metadata": {
    "collapsed": false,
    "pycharm": {
     "name": "#%% md\n"
    }
   }
  },
  {
   "cell_type": "markdown",
   "source": [
    "## Basics\n",
    "\n",
    "For an educational purpose, I brought two samples from a vibration sensor which is maintained on a real machine. You can find them in the directory `docs/tutorilas`. `buffer_signal.bin` contains a second of the signal when the machine is working. `buffer_no_signal.bin` has only noise, because the machine is stopped. Both files are serialized buffer without any denoising, so they have equal sizes but different amount of the information!"
   ],
   "metadata": {
    "collapsed": false,
    "pycharm": {
     "name": "#%% md\n"
    }
   }
  },
  {
   "cell_type": "markdown",
   "source": [
    "We need to separate white nose and information, so we need the sample with the working machine. Let's deserialize it:"
   ],
   "metadata": {
    "collapsed": false,
    "pycharm": {
     "name": "#%% md\n"
    }
   }
  },
  {
   "cell_type": "code",
   "execution_count": 1,
   "outputs": [
    {
     "name": "stdout",
     "output_type": "stream",
     "text": [
      "Initial size 194.918 kB\n",
      "WaveletBuffer<signal_number=1, signal_shape=(48199), decomposition_steps=9, wavelet_type=WaveletType.DB3>\n"
     ]
    }
   ],
   "source": [
    "from wavelet_buffer import WaveletBuffer, denoise\n",
    "import numpy as np\n",
    "import matplotlib.pyplot as plt\n",
    "\n",
    "blob = b\"\"\n",
    "with open(\"buffer_signal.bin\", \"rb\") as f:\n",
    "    blob = f.read()\n",
    "\n",
    "print(f\"Initial size {len(blob)/ 1000} kB\")\n",
    "buffer = WaveletBuffer.parse(blob)\n",
    "print(buffer)"
   ],
   "metadata": {
    "collapsed": false,
    "pycharm": {
     "name": "#%%\n"
    }
   }
  },
  {
   "cell_type": "markdown",
   "source": [
    "You can see that the signal has about 48000 points and the size of the file is about 200kB. Let's have a look at the signal inside:"
   ],
   "metadata": {
    "collapsed": false,
    "pycharm": {
     "name": "#%% md\n"
    }
   }
  },
  {
   "cell_type": "code",
   "execution_count": 2,
   "outputs": [
    {
     "data": {
      "text/plain": "<Figure size 640x480 with 1 Axes>",
      "image/png": "[encoded data removed]"
     },
     "metadata": {},
     "output_type": "display_data"
    }
   ],
   "source": [
    "signal = buffer.compose()\n",
    "\n",
    "plt.plot(signal)\n",
    "plt.show()"
   ],
   "metadata": {
    "collapsed": false,
    "pycharm": {
     "name": "#%%\n"
    }
   }
  },
  {
   "cell_type": "code",
   "execution_count": null,
   "outputs": [],
   "source": [],
   "metadata": {
    "collapsed": false,
    "pycharm": {
     "name": "#%%\n"
    }
   }
  },
  {
   "cell_type": "markdown",
   "source": [
    "Looks noisy, right? When we've restored the original signal, we can use WaveletBuffer to denoise it. We use some random threshold for the demonstration. Later we learn how to find the optimal parameter.\n",
    "When we pass `denoise.Threshold(a=0, b=0.04)` in `WaveletBuffer.decompose` method it set to 0 all values in hi-frequency subbands which less than a*x+b where x is a decomposition step of the current subband."
   ],
   "metadata": {
    "collapsed": false,
    "pycharm": {
     "name": "#%% md\n"
    }
   }
  },
  {
   "cell_type": "code",
   "execution_count": null,
   "outputs": [],
   "source": [
    "buffer.decompose(\n",
    "    signal, denoise.Threshold(a=0, b=0.04)\n",
    ")  # this a*x + 0.04 where x is a decomposition step\n",
    "denoised = buffer.compose()\n",
    "plt.plot(denoised)\n",
    "plt.show()"
   ],
   "metadata": {
    "collapsed": false,
    "pycharm": {
     "name": "#%%\n"
    }
   }
  },
  {
   "cell_type": "markdown",
   "source": [
    "The denoised signal looks the same, but we actually don't know if we removed only the noise, or we remove some part of the signal.\n",
    "To figure out, it we can take the difference between the denoised and original signals and check if it has some information or only noise. It it has some information and means we deleted with denoising."
   ],
   "metadata": {
    "collapsed": false,
    "pycharm": {
     "name": "#%% md\n"
    }
   }
  },
  {
   "cell_type": "code",
   "execution_count": null,
   "outputs": [],
   "source": [
    "err = denoised - signal\n",
    "plt.plot(err)\n",
    "plt.show()"
   ],
   "metadata": {
    "collapsed": false,
    "pycharm": {
     "name": "#%%\n"
    }
   }
  },
  {
   "cell_type": "markdown",
   "source": [
    "To check if the difference (err) has something more than only noise we can use find autocorrelation of error and test if all the values liew within `[-1.96/sqrt(n), 1.96.sqrt(n)]` where n is the size of sample. For more detail, see [here][1]."
   ],
   "metadata": {
    "collapsed": false,
    "pycharm": {
     "name": "#%% md\n"
    }
   }
  },
  {
   "cell_type": "code",
   "execution_count": null,
   "outputs": [],
   "source": [
    "def autocorr(x):\n",
    "    result = np.correlate(x, x, mode=\"full\")\n",
    "    return result[int(len(result) / 2) :]\n",
    "\n",
    "\n",
    "def test(corr: np.ndarray):\n",
    "    thr = 1.96 / np.sqrt(len(corr))\n",
    "    tests = np.where(np.abs(corr) <= thr, 1, 0)\n",
    "    return (tests.sum() / len(corr)) >= 0.95\n",
    "\n",
    "\n",
    "corr = autocorr(err)\n",
    "print(test(corr))"
   ],
   "metadata": {
    "collapsed": false,
    "pycharm": {
     "name": "#%%\n"
    }
   }
  },
  {
   "cell_type": "markdown",
   "source": [
    "You can see that for `denoise.Threshold(0, 0.04)` we removed something important from our signal. However, the desnoised signal looked the same.\n",
    "To fine the optimal threshold, we can start from 0 and increasing the threshold with a little step until we fail the test:"
   ],
   "metadata": {
    "collapsed": false,
    "pycharm": {
     "name": "#%% md\n"
    }
   }
  },
  {
   "cell_type": "code",
   "execution_count": null,
   "outputs": [],
   "source": [
    "threshold = 0\n",
    "step = 0.0001\n",
    "for x in range(1000):\n",
    "    threshold = step * x\n",
    "    buffer.decompose(signal, denoise.Threshold(0, threshold))\n",
    "    err = buffer.compose() - signal\n",
    "    corr = autocorr(err)\n",
    "    if not test(corr):\n",
    "        threshold = threshold - step\n",
    "        print(f\"Optimal threshold: {threshold}\")\n",
    "        break"
   ],
   "metadata": {
    "collapsed": false,
    "pycharm": {
     "name": "#%%\n"
    }
   }
  },
  {
   "cell_type": "markdown",
   "source": [
    "You see that the threshold way less than our initial assumption. Let's check the size of serialized signal:"
   ],
   "metadata": {
    "collapsed": false,
    "pycharm": {
     "name": "#%% md\n"
    }
   }
  },
  {
   "cell_type": "code",
   "execution_count": null,
   "outputs": [],
   "source": [
    "buffer.decompose(signal, denoise.Threshold(0, threshold))\n",
    "print(f\"Compression size: {len(buffer.serialize(compression_level=16)) / 1000} kB\")\n",
    "\n",
    "signal = buffer.compose()\n",
    "\n",
    "plt.plot(signal)\n",
    "plt.show()"
   ],
   "metadata": {
    "collapsed": false,
    "pycharm": {
     "name": "#%%\n"
    }
   }
  },
  {
   "cell_type": "markdown",
   "source": [
    "Looks like it got 6 times smaller after the demonising. However, the most interesting thing is compression of the sample when the machine was stopped:"
   ],
   "metadata": {
    "collapsed": false,
    "pycharm": {
     "name": "#%% md\n"
    }
   }
  },
  {
   "cell_type": "code",
   "execution_count": null,
   "outputs": [],
   "source": [
    "blob = b\"\"\n",
    "with open(\"buffer_no_signal.bin\", \"rb\") as f:\n",
    "    blob = f.read()\n",
    "\n",
    "buffer = WaveletBuffer.parse(blob)\n",
    "buffer.decompose(buffer.compose(), denoise.Threshold(0, threshold))\n",
    "signal = buffer.compose()\n",
    "\n",
    "print(\n",
    "    f\"Compression (onlynoise) size: {len(buffer.serialize(compression_level=16)) / 1000} kB\"\n",
    ")\n",
    "\n",
    "plt.plot(signal)\n",
    "plt.show()"
   ],
   "metadata": {
    "collapsed": false,
    "pycharm": {
     "name": "#%%\n"
    }
   }
  },
  {
   "cell_type": "markdown",
   "source": [
    "The compressed size is 500 times smaller now, because we don't have valuable information in the sample.\n",
    "\n",
    "## Conclusion\n",
    "\n",
    "[WaveletBuffer][1] provides a pipline `wavelet transormation` -> `denoising` -> `compression` which is useful for efficient compression of height frequency timeseries data. This approach has an additional advantage for data sources which don't provide valuable information all the time but are requested continuously."
   ],
   "metadata": {
    "collapsed": false,
    "pycharm": {
     "name": "#%% md\n"
    }
   }
  },
  {
   "cell_type": "markdown",
   "source": [
    "## References:\n",
    "\n",
    "* [White Noise Model][1]\n",
    "* [WaveletBuffer][2]\n",
    "\n",
    "\n",
    "[1]:https://timeseriesreasoning.com/contents/white-noise-model/\n",
    "[2]:https://github.com/panda-official/WaveletBuffer"
   ],
   "metadata": {
    "collapsed": false,
    "pycharm": {
     "name": "#%% md\n"
    }
   }
  }
 ],
 "metadata": {
  "kernelspec": {
   "display_name": "Python 3",
   "language": "python",
   "name": "python3"
  },
  "language_info": {
   "codemirror_mode": {
    "name": "ipython",
    "version": 2
   },
   "file_extension": ".py",
   "mimetype": "text/x-python",
   "name": "python",
   "nbconvert_exporter": "python",
   "pygments_lexer": "ipython2",
   "version": "2.7.6"
  }
 },
 "nbformat": 4,
 "nbformat_minor": 0
}
